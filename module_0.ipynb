{
 "cells": [
  {
   "cell_type": "code",
   "execution_count": 7,
   "metadata": {},
   "outputs": [
    {
     "name": "stdout",
     "output_type": "stream",
     "text": [
      "Ваш алгоритм угадывает число в среднем за 4 попыток\n"
     ]
    },
    {
     "data": {
      "text/plain": [
       "4"
      ]
     },
     "execution_count": 7,
     "metadata": {},
     "output_type": "execute_result"
    }
   ],
   "source": [
    "import numpy as np\n",
    "def search(list_predict, item, iteration=0):\n",
    "    \"\"\"list_predict: упорядоченый список из множества чисел в которм будем искать, item: искомое число, iteration: количество попыток\n",
    "    \"\"\"\n",
    "    if len(list_predict) == 0:\n",
    "        return iteration\n",
    "    else:\n",
    "        midpoint = len(list_predict) // 2\n",
    "        if list_predict[midpoint] == item: \n",
    "            return iteration # центральная точка является нашим искомым числом, вернем количество попыток\n",
    "        else: # Проверяем границы, слева или справа искомое число\n",
    "            if item < list_predict[midpoint]: # если слева, то формируем новый list_predict от центральной точки  \n",
    "                return search(list_predict[:midpoint], item, iteration + 1) # увеличиваем число попыток iteration + 1 и снова вызываем функцию поиска\n",
    "            else:\n",
    "                # если справа, то формируем новый list_predict от центральной точки\n",
    "                return search(list_predict[midpoint + 1:], item, iteration + 1) # увеличиваем число попыток iteration + 1 и снова вызываем функцию поиска\n",
    "            \n",
    "def game_core_v3(number):\n",
    "    predict = np.random.randint(1, 101) \n",
    "    return search(range(predict), number) # range(predict) формирует упорядоченый список из множества чисел, в котором будем искать, то есть наш list_predict\n",
    "\n",
    "def score_game(random_finder):\n",
    "    \"\"\"Запускаем игру 1000 раз, чтоб узнать как быстро игра угадывает число\"\"\"\"\"\n",
    "    count_ls = []\n",
    "    np.random.seed(1)  # фиксируем RANDOM SEED, чтобы ваш эксперимент был воспроизводим!\n",
    "    random_array = np.random.randint(1, 101, size=1000)\n",
    "    for number in random_array:\n",
    "        count_ls.append(random_finder(number))\n",
    "    score = int(np.mean(count_ls))\n",
    "    print(f\"Ваш алгоритм угадывает число в среднем за {score} попыток\")\n",
    "    return score\n",
    "\n",
    "# запускаем\n",
    "score_game(game_core_v3)"
   ]
  },
  {
   "cell_type": "code",
   "execution_count": 8,
   "metadata": {},
   "outputs": [
    {
     "name": "stdout",
     "output_type": "stream",
     "text": [
      "Ваш алгоритм угадывает число в среднем за 6 попыток\n"
     ]
    },
    {
     "data": {
      "text/plain": [
       "6"
      ]
     },
     "execution_count": 8,
     "metadata": {},
     "output_type": "execute_result"
    }
   ],
   "source": [
    "def game_core_v3(number): #второй вариант\n",
    "    predict = np.random.randint(1, 101)\n",
    "    tries = 1\n",
    "    low = 1\n",
    "    high = 100\n",
    "    while number != predict:\n",
    "        if number > predict:\n",
    "            low = predict\n",
    "            predict += ((high - predict) // 2) or 1\n",
    "        elif number < predict:\n",
    "            high = predict\n",
    "            predict -= ((predict - low) // 2) or 1\n",
    "        tries += 1\n",
    "    return (tries)\n",
    "\n",
    "def score_game(random_finder):\n",
    "    \"\"\"Запускаем игру 1000 раз, чтоб узнать как быстро игра угадывает число\"\"\"\"\"\n",
    "    count_ls = []\n",
    "    np.random.seed(1)  # фиксируем RANDOM SEED, чтобы ваш эксперимент был воспроизводим!\n",
    "    random_array = np.random.randint(1, 101, size=1000)\n",
    "    for number in random_array:\n",
    "        count_ls.append(random_finder(number))\n",
    "    score = int(np.mean(count_ls))\n",
    "    print(f\"Ваш алгоритм угадывает число в среднем за {score} попыток\")\n",
    "    return score\n",
    "\n",
    "# запускаем\n",
    "score_game(game_core_v3)"
   ]
  },
  {
   "cell_type": "code",
   "execution_count": null,
   "metadata": {},
   "outputs": [],
   "source": []
  }
 ],
 "metadata": {
  "kernelspec": {
   "display_name": "Python 3",
   "language": "python",
   "name": "python3"
  },
  "language_info": {
   "codemirror_mode": {
    "name": "ipython",
    "version": 3
   },
   "file_extension": ".py",
   "mimetype": "text/x-python",
   "name": "python",
   "nbconvert_exporter": "python",
   "pygments_lexer": "ipython3",
   "version": "3.7.6"
  }
 },
 "nbformat": 4,
 "nbformat_minor": 4
}
